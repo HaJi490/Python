{
 "cells": [
  {
   "cell_type": "markdown",
   "id": "b6964bed",
   "metadata": {},
   "source": [
    "✅ 머신러닝/딥러닝을 위한 실전형 함수 작성 훈련 과제\n",
    "핵심 요소: list comprehension, tuple, dictionary, enumerate(), zip() 집중 사용\n",
    "\n",
    "🧩 STEP 1. 리스트 처리 함수 (기초 + comprehension)\n",
    "📌 과제 1\n",
    "점수 리스트를 받아 70점 이상이면 '합격', 그렇지 않으면 '불합격'으로 분류된 문자열 리스트를 반환하세요."
   ]
  },
  {
   "cell_type": "code",
   "execution_count": null,
   "id": "ccf2f4b2",
   "metadata": {},
   "outputs": [
    {
     "name": "stdout",
     "output_type": "stream",
     "text": [
      "['합격', '불합격', '합격', '불합격']\n"
     ]
    }
   ],
   "source": [
    "def classify_scores(scores):\n",
    "    return ['합격' if sc >= 70 else '불합격' for sc in scores ] \n",
    "\n",
    "scores = [85, 67, 90, 45, 75]\n",
    "#scoreOx = ['합격' if sc >= 70 else '불합격' for sc in scores ]# ❗if-else는 if문이 앞\n",
    "classify_scores(scores)\n",
    "print(classify_scores(scores))\n"
   ]
  },
  {
   "cell_type": "markdown",
   "id": "187c9870",
   "metadata": {},
   "source": [
    "📌 과제 2\n",
    "이름 리스트를 받아 각 이름에 순번을 붙인 리스트를 반환하세요 (enumerate() 사용)."
   ]
  },
  {
   "cell_type": "code",
   "execution_count": 13,
   "id": "1d90939b",
   "metadata": {},
   "outputs": [
    {
     "name": "stdout",
     "output_type": "stream",
     "text": [
      "['1. 홍길동', '2. 김유신', '3. 이순신', '4. 강감찬', '5. 유관순']\n"
     ]
    }
   ],
   "source": [
    "names = [\"홍길동\", \"김유신\", \"이순신\", \"강감찬\", \"유관순\"]\n",
    "\n",
    "plus = []\n",
    "for i, name in enumerate( names):\n",
    "    plus.append(f'{i+1}. {name}')\n",
    "print(plus)"
   ]
  },
  {
   "cell_type": "markdown",
   "id": "3a889847",
   "metadata": {},
   "source": [
    "🧩 STEP 2. 튜플 & zip() 처리 함수\n",
    "📌 과제 3\n",
    "이름, 점수 두 리스트를 받아 \"홍길동: 85점\"과 같은 문자열 리스트를 반환하세요 (zip() 사용)."
   ]
  },
  {
   "cell_type": "code",
   "execution_count": null,
   "id": "c5915e9b",
   "metadata": {},
   "outputs": [],
   "source": []
  }
 ],
 "metadata": {
  "kernelspec": {
   "display_name": "Python 3",
   "language": "python",
   "name": "python3"
  },
  "language_info": {
   "codemirror_mode": {
    "name": "ipython",
    "version": 3
   },
   "file_extension": ".py",
   "mimetype": "text/x-python",
   "name": "python",
   "nbconvert_exporter": "python",
   "pygments_lexer": "ipython3",
   "version": "3.9.13"
  }
 },
 "nbformat": 4,
 "nbformat_minor": 5
}
