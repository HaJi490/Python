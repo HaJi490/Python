{
 "cells": [
  {
   "cell_type": "markdown",
   "id": "b6964bed",
   "metadata": {},
   "source": [
    "✅ 머신러닝/딥러닝을 위한 실전형 함수 작성 훈련 과제\n",
    "핵심 요소: list comprehension, tuple, dictionary, enumerate(), zip() 집중 사용\n",
    "\n",
    "🧩 STEP 1. 리스트 처리 함수 (기초 + comprehension)\n",
    "📌 과제 1\n",
    "점수 리스트를 받아 70점 이상이면 '합격', 그렇지 않으면 '불합격'으로 분류된 문자열 리스트를 반환하세요."
   ]
  },
  {
   "cell_type": "code",
   "execution_count": null,
   "id": "ccf2f4b2",
   "metadata": {},
   "outputs": [
    {
     "name": "stdout",
     "output_type": "stream",
     "text": [
      "['합격', '불합격', '합격', '불합격']\n"
     ]
    }
   ],
   "source": [
    "def classify_scores(scores):\n",
    "    return ['합격' if sc >= 70 else '불합격' for sc in scores ] \n",
    "\n",
    "scores = [85, 67, 90, 45, 75]\n",
    "#scoreOx = ['합격' if sc >= 70 else '불합격' for sc in scores ]# ❗if-else는 if문이 앞\n",
    "classify_scores(scores)\n",
    "print(classify_scores(scores))\n"
   ]
  },
  {
   "cell_type": "markdown",
   "id": "187c9870",
   "metadata": {},
   "source": [
    "📌 과제 2\n",
    "이름 리스트를 받아 각 이름에 순번을 붙인 리스트를 반환하세요 (enumerate() 사용)."
   ]
  },
  {
   "cell_type": "code",
   "execution_count": 13,
   "id": "1d90939b",
   "metadata": {},
   "outputs": [
    {
     "name": "stdout",
     "output_type": "stream",
     "text": [
      "['1. 홍길동', '2. 김유신', '3. 이순신', '4. 강감찬', '5. 유관순']\n"
     ]
    }
   ],
   "source": [
    "names = [\"홍길동\", \"김유신\", \"이순신\", \"강감찬\", \"유관순\"]\n",
    "\n",
    "plus = []\n",
    "for i, name in enumerate( names):\n",
    "    plus.append(f'{i+1}. {name}')\n",
    "print(plus)"
   ]
  },
  {
   "cell_type": "markdown",
   "id": "3a889847",
   "metadata": {},
   "source": [
    "🧩 STEP 2. 튜플 & zip() 처리 함수\n",
    "📌 과제 3\n",
    "이름, 점수 두 리스트를 받아 \"홍길동: 85점\"과 같은 문자열 리스트를 반환하세요 (zip() 사용)."
   ]
  },
  {
   "cell_type": "code",
   "execution_count": 12,
   "id": "c5915e9b",
   "metadata": {},
   "outputs": [
    {
     "name": "stdout",
     "output_type": "stream",
     "text": [
      "['홍길동: 85', '김유신: 67', '이순신: 90', '강감찬: 45', '유관순: 75']\n",
      "['홍길동: 85', '김유신: 67', '이순신: 90', '강감찬: 45', '유관순: 75']\n",
      "['홍길동: 85', '김유신: 67', '이순신: 90', '강감찬: 45', '유관순: 75']\n"
     ]
    }
   ],
   "source": [
    "scores = [85, 67, 90, 45, 75]\n",
    "names = [\"홍길동\", \"김유신\", \"이순신\", \"강감찬\", \"유관순\"]\n",
    "\n",
    "#for문\n",
    "list=[]\n",
    "for name, sc in zip(names, scores):\n",
    "    list.append(f'{name}: {sc}')\n",
    "print(list)\n",
    "\n",
    "# 리스트 컴프리헨션\n",
    "list2 = [f'{name}: {sc}' for name, sc in zip(names, scores)] #❗리스트 안에 '변수명1: 변수명2' 표현xx -> 딕셔너리 표현\n",
    "print(list2)\n",
    "\n",
    "#사용자정의 함수 사용\n",
    "def combine_name_score(names, scores):\n",
    "    return [f'{name}: {sc}' for name, sc in zip(names, scores)]\n",
    "\n",
    "list3 = combine_name_score(names, scores)\n",
    "print(list3)\n"
   ]
  },
  {
   "cell_type": "markdown",
   "id": "a8849794",
   "metadata": {},
   "source": [
    "📌 과제 4\n",
    "(이름, 점수) 튜플 리스트에서 80점 이상인 사람만 필터링된 튜플 리스트를 반환하세요."
   ]
  },
  {
   "cell_type": "code",
   "execution_count": 13,
   "id": "3f386cb9",
   "metadata": {},
   "outputs": [
    {
     "name": "stdout",
     "output_type": "stream",
     "text": [
      "[('홍길동', 85), ('이순신', 90)]\n",
      "[('홍길동', 85), ('이순신', 90)]\n"
     ]
    }
   ],
   "source": [
    "lsts = [('홍길동', 85), ('감유신' , 67), ('이순신' , 90), ('강감찬' , 45), ('유관순' , 75)]\n",
    "\n",
    "filtered = []\n",
    "for name, sc in lsts:\n",
    "       if sc > 80:\n",
    "           filtered.append((name, sc)) #❗append(())안에 괄호는 튜플\n",
    "print(filtered)\n",
    "\n",
    "#사용자 정의함수\n",
    "def filter_high_score(data):\n",
    "      return [(name, sc) for name, sc in data if sc > 80]\n",
    "\n",
    "filtered2 = filter_high_score(lsts)\n",
    "print(filtered2)\n",
    "             "
   ]
  },
  {
   "cell_type": "markdown",
   "id": "f3c8c9b2",
   "metadata": {},
   "source": [
    "🧩 STEP 3. 딕셔너리 생성/변환 함수\n",
    "📌 과제 5\n",
    "이름 리스트와 점수 리스트를 받아 딕셔너리로 변환하는 함수 (zip() 사용):"
   ]
  },
  {
   "cell_type": "code",
   "execution_count": 15,
   "id": "565cadca",
   "metadata": {},
   "outputs": [
    {
     "name": "stdout",
     "output_type": "stream",
     "text": [
      "{'홍길동': 85, '김유신': 67, '이순신': 90, '강감찬': 45, '유관순': 75}\n"
     ]
    }
   ],
   "source": [
    "scores = [85, 67, 90, 45, 75]\n",
    "names = [\"홍길동\", \"김유신\", \"이순신\", \"강감찬\", \"유관순\"]\n",
    "\n",
    "def to_score_todict(names, scores):\n",
    "    return {name: sc for name, sc in zip (names, scores)}\n",
    "\n",
    "todict = to_score_todict(names, scores)\n",
    "print(todict)"
   ]
  },
  {
   "cell_type": "markdown",
   "id": "54c2ddfa",
   "metadata": {},
   "source": [
    "📌 과제 6\n",
    "학생 점수 딕셔너리를 받아 합격자 이름만 리스트로 반환하세요 (cutoff 지정 가능)."
   ]
  },
  {
   "cell_type": "code",
   "execution_count": null,
   "id": "3f280ee1",
   "metadata": {},
   "outputs": [
    {
     "name": "stdout",
     "output_type": "stream",
     "text": [
      "['홍길동: 합격', '이순신: 합격']\n",
      "['홍길동: 합격', '이순신: 합격', '유관순: 합격']\n"
     ]
    }
   ],
   "source": [
    "st_score = {'홍길동': 85, '김유신': 67, '이순신': 90, '강감찬': 45, '유관순': 75}\n",
    "\n",
    "def passed_students(st_score, cutoff = 80 ): #❗cutoff 매개변수, 기본값 80\n",
    "    return [f'{name}: 합격' for name, sc in st_score.items() if sc > cutoff] #❗딕셔너리 접근: .items()안하면 키값만 꺼내짐\n",
    "\n",
    "passed = passed_students(st_score)\n",
    "print(passed)\n",
    "passed_plus = passed_students(st_score, cutoff=70) #원하는 값 cutoff값으로 지정\n",
    "print(passed_plus)"
   ]
  },
  {
   "cell_type": "markdown",
   "id": "8a28d150",
   "metadata": {},
   "source": [
    "🧩 STEP 4. 분석 보고용 함수\n",
    "📌 과제 7\n",
    "이름, 과목, 점수 리스트를 받아 \"1. 홍길동 - 수학: 85점\"과 같은 리스트를 반환하세요 (enumerate(), zip() 함께 사용)\n"
   ]
  },
  {
   "cell_type": "code",
   "execution_count": 3,
   "id": "324ebebb",
   "metadata": {},
   "outputs": [
    {
     "name": "stdout",
     "output_type": "stream",
     "text": [
      "['0. 홍길동 - 국어: 85점', '1. 김유신 - 수학: 67점', '2. 이순신 - 영어: 90점', '3. 강감찬 - 과학: 45점', '4. 유관순 - 사회: 75점']\n",
      "['0. 홍길동 - 국어: 85점', '1. 김유신 - 수학: 67점', '2. 이순신 - 영어: 90점', '3. 강감찬 - 과학: 45점', '4. 유관순 - 사회: 75점']\n"
     ]
    }
   ],
   "source": [
    "names = [\"홍길동\", \"김유신\", \"이순신\", \"강감찬\", \"유관순\"]\n",
    "subjects = ['국어', '수학', '영어', '과학', '사회']\n",
    "scores = [85, 67, 90, 45, 75]\n",
    "\n",
    "lst = [f'{idx}. {name} - {sub}: {sc}점' for idx, (name, sub, sc) in enumerate(zip(names, subjects, scores))] # ❗zip반환 ()로 묶어주기\n",
    "print(lst)\n",
    "\n",
    "def formatted_report(names, subjects, scores):\n",
    "    return [f'{idx}. {name} - {sub}: {sc}점' for idx, (name, sub, sc) in enumerate(zip(names, subjects, scores))]\n",
    "\n",
    "print(formatted_report(names, subjects, scores))"
   ]
  },
  {
   "cell_type": "markdown",
   "id": "a681d913",
   "metadata": {},
   "source": [
    "🧩 STEP 5. 집계 및 정제 함수\n",
    "📌 과제 8\n",
    "문자열 리스트에서 공백 제거 + 소문자 변환 + 중복 제거된 정렬 리스트를 반환하세요."
   ]
  },
  {
   "cell_type": "code",
   "execution_count": null,
   "id": "5f941ca4",
   "metadata": {},
   "outputs": [],
   "source": []
  }
 ],
 "metadata": {
  "kernelspec": {
   "display_name": "Python 3",
   "language": "python",
   "name": "python3"
  },
  "language_info": {
   "codemirror_mode": {
    "name": "ipython",
    "version": 3
   },
   "file_extension": ".py",
   "mimetype": "text/x-python",
   "name": "python",
   "nbconvert_exporter": "python",
   "pygments_lexer": "ipython3",
   "version": "3.9.13"
  }
 },
 "nbformat": 4,
 "nbformat_minor": 5
}
