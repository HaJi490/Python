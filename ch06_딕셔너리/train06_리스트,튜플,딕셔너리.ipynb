{
 "cells": [
  {
   "cell_type": "markdown",
   "id": "ee3f7b32",
   "metadata": {},
   "source": [
    "📘 STEP 1: 리스트 + 리스트 컴프리헨션 기본\n",
    "\n",
    "\n",
    "실습 과제:\n",
    "\n",
    "1. 아래의 점수 리스트에서 60점 이상만 추출하는 코드를 리스트 comprehension 작성.\n",
    "2. 짝수 인덱스에 해당하는 점수만 출력 (슬라이싱 사용).\n",
    "3. 점수 리스트에서 **70점 이상이면 '합격', 아니면 '불합격'**으로 변환된 결과 리스트.\n",
    "\n",
    "scores = [55, 89, 76, 45, 90, 66, 72]"
   ]
  },
  {
   "cell_type": "code",
   "execution_count": 7,
   "id": "3c846cbc",
   "metadata": {},
   "outputs": [
    {
     "name": "stdout",
     "output_type": "stream",
     "text": [
      "[89, 76, 90, 66, 72]\n",
      "[76, 90, 72]\n",
      "[89, 76, 90, 72]\n",
      "[55, 45, 66]\n"
     ]
    }
   ],
   "source": [
    "#1. 점수리스트에서 60점 이상만 추출(리스트 컴프리헨션)\n",
    "scores = [55, 89, 76, 45, 90, 66, 72]\n",
    "find_scores = [s for s in scores if s >= 60]\n",
    "print(find_scores)\n",
    "\n",
    "#2. 짝수 인덱스에 해당하는 점수만\n",
    "print(scores[2::2])\n",
    "\n",
    "#3. 점수 리스트에서 70이상은 합격, 아니면 불합격 리스트\n",
    "pass_score=[p for p in scores if p>= 70 ]\n",
    "nopass_score=[p for p in scores if p< 70 ]\n",
    "print(pass_score)\n",
    "print(nopass_score)"
   ]
  },
  {
   "cell_type": "markdown",
   "id": "f56a7813",
   "metadata": {},
   "source": [
    "📘 STEP 2: 튜플 + 리스트 컴프리헨션\n",
    "\n",
    "\n",
    "실습 과제:\n",
    "\n",
    "1. (이름, 점수) 튜플이 있는 리스트에서 80점 이상인 학생 이름만 출력.\n",
    "2. **점수가 60점 미만인 학생 이름만 '재시험 대상자'**로 출력하는 리스트.\n",
    "\n",
    "students = [(\"홍길동\", 85), (\"김유신\", 58), (\"이순신\", 76), (\"강감찬\", 45), (\"유관순\", 92)]\n"
   ]
  },
  {
   "cell_type": "code",
   "execution_count": 17,
   "id": "46db94e6",
   "metadata": {},
   "outputs": [
    {
     "name": "stdout",
     "output_type": "stream",
     "text": [
      "[('홍길동', 85), ('김유신', 58), ('이순신', 76), ('강감찬', 45), ('유관순', 92)]\n",
      "85\n",
      "92\n",
      "[85, 92]\n",
      "'김유신'은 재시험대상\n",
      "'강감찬'은 재시험대상\n"
     ]
    }
   ],
   "source": [
    "students = [(\"홍길동\", 85), (\"김유신\", 58), (\"이순신\", 76), (\"강감찬\", 45), (\"유관순\", 92)] #리스트속 튜플\n",
    "#1. 80점이상인 학생만\n",
    "print(students)\n",
    "for st in students:\n",
    "    if st[1] >= 80:\n",
    "        print(st[1])\n",
    "\n",
    "eight_st = [ st[1] for st in students if st[1]>=80]\n",
    "print(eight_st)\n",
    "\n",
    "#2. 60점미만은 재시험대상자\n",
    "for st in students:\n",
    "    if st[1] < 60:\n",
    "        print(f\"'{st[0]}'은 재시험대상\")\n",
    "    "
   ]
  },
  {
   "cell_type": "markdown",
   "id": "3df36bd4",
   "metadata": {},
   "source": [
    "📘 STEP 3: 딕셔너리 + 리스트 컴프리헨션\n",
    "\n",
    "\n",
    "실습 과제:\n",
    "\n",
    "1. 아래 딕셔너리에서 점수가 70점 이상인 학생 이름 리스트.\n",
    "2. 점수가 가장 높은 학생의 이름과 점수를 출력. (힌트: max() 사용)"
   ]
  },
  {
   "cell_type": "code",
   "execution_count": null,
   "id": "ce81066d",
   "metadata": {},
   "outputs": [
    {
     "name": "stdout",
     "output_type": "stream",
     "text": [
      "['홍길동', '이순신', '유관순']\n",
      "92\n",
      "유관순 92\n"
     ]
    }
   ],
   "source": [
    "score_dict = {\n",
    "    \"홍길동\": 85,\n",
    "    \"김유신\": 58,\n",
    "    \"이순신\": 76,\n",
    "    \"강감찬\": 45,\n",
    "    \"유관순\": 92\n",
    "}\n",
    "\n",
    "#1. 점수가 70이상인 학생리스트\n",
    "seven_st = [st for st, sc in score_dict.items() if sc >= 70]\n",
    "print(seven_st)\n",
    "\n",
    "#2. 점수가 가장 높은 학생의 이름과 점수(📍람다식 사용해서 해보기)\n",
    "max_st =  max( score_dict.values()) # for st, sc in score_dict.items()\n",
    "print(max_st)\n",
    "for st, sc in score_dict.items():\n",
    "    if sc == max_st:\n",
    "        print (st, sc)\n",
    "\n"
   ]
  },
  {
   "cell_type": "markdown",
   "id": "ba960318",
   "metadata": {},
   "source": [
    "📘 STEP 4: enumerate() + 리스트 컴프리헨션\n",
    "\n",
    "\n",
    "실습 과제:\n",
    "\n",
    "1. 번호와 이름을 같이 출력하는 문자열 리스트. (예: \"1. 홍길동\")\n",
    "2. 홀수 번호(1번, 3번...) 학생만 필터링해서 출력."
   ]
  },
  {
   "cell_type": "code",
   "execution_count": 35,
   "id": "351be103",
   "metadata": {},
   "outputs": [
    {
     "name": "stdout",
     "output_type": "stream",
     "text": [
      "['1. 홍길동', '2. 김유신', '3. 이순신', '4. 강감찬', '5. 유관순']\n",
      "['1. 홍길동', '3. 이순신', '5. 유관순']\n"
     ]
    }
   ],
   "source": [
    "names = [\"홍길동\", \"김유신\", \"이순신\", \"강감찬\", \"유관순\"]\n",
    "#1. 번호와 이름을 같이 출력하는 문자열 리스트\n",
    "withNum = []\n",
    "for i, name  in enumerate(names):\n",
    "    withNum.append(f\"{i+1}. {name}\")\n",
    "print(withNum)\n",
    "\n",
    "#2. 짝수번호 학생만 출력\n",
    "print(withNum[::2])\n"
   ]
  },
  {
   "cell_type": "markdown",
   "id": "d10a047c",
   "metadata": {},
   "source": [
    "📘 STEP 5: zip() + 리스트 컴프리헨션\n",
    "\n",
    "\n",
    "실습 과제:\n",
    "\n",
    "1. 이름과 점수를 묶어서 \"이름: 점수점\" 형식의 리스트.\n",
    "2. 점수가 80점 이상인 경우에만 \"이름: 합격\" 문자열 리스트."
   ]
  },
  {
   "cell_type": "code",
   "execution_count": 42,
   "id": "0836328d",
   "metadata": {},
   "outputs": [
    {
     "name": "stdout",
     "output_type": "stream",
     "text": [
      "['홍길동: 85', '김유신: 58', '이순신: 76', '강감찬: 45', '유관순: 92']\n",
      "['홍길동: 합격', '유관순: 합격']\n",
      "{'홍길동': '합격', '유관순': '합격'}\n"
     ]
    }
   ],
   "source": [
    "names = [\"홍길동\", \"김유신\", \"이순신\", \"강감찬\", \"유관순\"]\n",
    "scores = [85, 58, 76, 45, 92]\n",
    "\n",
    "#1. \"이름: 점수\"형식의 리스트\n",
    "mapping=[]\n",
    "for st, sc in zip(names, scores):\n",
    "    mapping.append(f\"{st}: {sc}\")\n",
    "print(mapping)\n",
    "\n",
    "#2. 80점 이상인 경우만 \"이름: 합격\" 문자열 리스트\n",
    "strList= []\n",
    "for st, sc in zip(names, scores):\n",
    "    if sc >= 80:\n",
    "        strList.append(f\"{st}: 합격\")\n",
    "print(strList)\n",
    "\n",
    "#2. 80점 이상인 경우만 \"이름: 합격\" 문자열 딕셔너리\n",
    "strDict = {st:'합격' for st, sc in zip(names, scores) if sc >= 80}\n",
    "print(strDict)\n"
   ]
  },
  {
   "cell_type": "markdown",
   "id": "384161dc",
   "metadata": {},
   "source": [
    "💡 보너스 프로젝트: 한 줄 코딩 연습\n",
    "\n",
    "\n",
    "실습 과제:\n",
    "\n",
    "- zip(), enumerate(), 조건, 슬라이싱을 모두 활용해서 **홀수 번호 학생 중 점수가 80점 이상이면 '합격' 아니면 '불합격'**으로 출력하는 문자열 리스트.\n"
   ]
  },
  {
   "cell_type": "code",
   "execution_count": null,
   "id": "8ccef7fa",
   "metadata": {},
   "outputs": [],
   "source": [
    "names = [\"홍길동\", \"김유신\", \"이순신\", \"강감찬\", \"유관순\"]\n",
    "scores = [85, 58, 76, 45, 92]\n"
   ]
  }
 ],
 "metadata": {
  "kernelspec": {
   "display_name": "Python 3",
   "language": "python",
   "name": "python3"
  },
  "language_info": {
   "codemirror_mode": {
    "name": "ipython",
    "version": 3
   },
   "file_extension": ".py",
   "mimetype": "text/x-python",
   "name": "python",
   "nbconvert_exporter": "python",
   "pygments_lexer": "ipython3",
   "version": "3.9.13"
  }
 },
 "nbformat": 4,
 "nbformat_minor": 5
}
