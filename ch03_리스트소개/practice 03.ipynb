{
 "cells": [
  {
   "cell_type": "code",
   "execution_count": null,
   "id": "8ef7953e",
   "metadata": {},
   "outputs": [
    {
     "name": "stdout",
     "output_type": "stream",
     "text": [
      "['a', 'b', 'c', 'd']\n",
      "a님, 저녁식사 초대\n",
      "ch님, 저녁식사 초대\n",
      "c님, 저녁식사 초대\n",
      "d님, 저녁식사 초대\n"
     ]
    }
   ],
   "source": [
    "# 4. 손님리스트\n",
    "guests = ['a', 'b', 'c', 'd']\n",
    "print(guests)\n",
    "\n",
    "# 5. 손님리스트 변경\n",
    "guests[1] = 'ch'\n",
    "for g in guests:\n",
    "    print( g + \"님, 저녁식사 초대\")\n"
   ]
  }
 ],
 "metadata": {
  "kernelspec": {
   "display_name": "Python 3",
   "language": "python",
   "name": "python3"
  },
  "language_info": {
   "codemirror_mode": {
    "name": "ipython",
    "version": 3
   },
   "file_extension": ".py",
   "mimetype": "text/x-python",
   "name": "python",
   "nbconvert_exporter": "python",
   "pygments_lexer": "ipython3",
   "version": "3.9.13"
  }
 },
 "nbformat": 4,
 "nbformat_minor": 5
}
