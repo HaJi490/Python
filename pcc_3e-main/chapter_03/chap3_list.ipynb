{
 "cells": [
  {
   "cell_type": "code",
   "execution_count": null,
   "id": "9fbb9223",
   "metadata": {},
   "outputs": [
    {
     "name": "stdout",
     "output_type": "stream",
     "text": [
      "Specialized\n",
      "mtb\n",
      "['MTB', 'cannondale', 'redline', 'specialized', 'ducati']\n"
     ]
    }
   ],
   "source": [
    "#리스트 선언\n",
    "bicycles = ['trek', 'cannondale', 'redline', 'specialized']\n",
    "print(bicycles[-1].title()) #index 사용 #'-1' 리스트 마지막요소 접근\n",
    "\n",
    "#수정\n",
    "bicycles[0] = 'MTB'#리스트의 각 원소도 참조변수\n",
    "print(bicycles[0].lower()) #lower(): 소문자\n",
    "\n",
    "#추가1\n",
    "bicycles.append('ducati')\n",
    "print(bicycles)"
   ]
  },
  {
   "cell_type": "code",
   "execution_count": null,
   "id": "7c00a8e2",
   "metadata": {},
   "outputs": [
    {
     "name": "stdout",
     "output_type": "stream",
     "text": [
      "['honda', 'honda', 'MTB', 'cannondale', 'redline', 'specialized', 'ducati']\n",
      "['MTB', 'cannondale', 'redline', 'specialized', 'ducati']\n"
     ]
    }
   ],
   "source": [
    "#추가2\n",
    "bicycles.insert(0, 'honda')\n",
    "print(bicycles) #다른 블럭이어도 변수는 유효함\n",
    "\n",
    "# 삭제1\n",
    "#bicycles.delete(0) #지원안됨\n",
    "del bicycles[0:2]\n",
    "print(bicycles) "
   ]
  },
  {
   "cell_type": "code",
   "execution_count": null,
   "id": "4f092991",
   "metadata": {},
   "outputs": [
    {
     "name": "stdout",
     "output_type": "stream",
     "text": [
      "redline\n",
      "['MTB', 'cannondale', 'kia']\n"
     ]
    }
   ],
   "source": [
    "# 삭제2\n",
    "bike = bicycles.pop() #마지막 요소 삭제\n",
    "bike2 = bicycles.pop(0) #해당 인덱스 삭제\n",
    "print(bike)\n",
    "\n",
    "# bicycles.push() #지원안됨\n",
    "bicycles.append('kia')\n",
    "print(bicycles)"
   ]
  },
  {
   "cell_type": "code",
   "execution_count": null,
   "id": "86fe7e21",
   "metadata": {},
   "outputs": [],
   "source": [
    "print(bike)\n",
    "\n",
    "#삭제3\n",
    "bicycles.remove('kia')"
   ]
  },
  {
   "cell_type": "code",
   "execution_count": null,
   "id": "cba2b629",
   "metadata": {},
   "outputs": [
    {
     "name": "stdout",
     "output_type": "stream",
     "text": [
      "['audi', 'bmw', 'subaru', 'toyota']\n",
      "4\n",
      "subaru\n"
     ]
    }
   ],
   "source": [
    "cars = ['bmw', 'audi', 'toyota', 'subaru']\n",
    "\n",
    "#정렬\n",
    "#cars.sort(reverse=True)\n",
    "\n",
    "#임시로 정렬\n",
    "print(sorted(cars))\n",
    "\n",
    "#리스트 길이\n",
    "print(len(cars))\n",
    "\n",
    "#인덱스 에러 피하기\n",
    "print(cars[-1])"
   ]
  }
 ],
 "metadata": {
  "kernelspec": {
   "display_name": "Python 3",
   "language": "python",
   "name": "python3"
  },
  "language_info": {
   "codemirror_mode": {
    "name": "ipython",
    "version": 3
   },
   "file_extension": ".py",
   "mimetype": "text/x-python",
   "name": "python",
   "nbconvert_exporter": "python",
   "pygments_lexer": "ipython3",
   "version": "3.9.13"
  }
 },
 "nbformat": 4,
 "nbformat_minor": 5
}
