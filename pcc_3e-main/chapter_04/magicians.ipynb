{
 "cells": [
  {
   "cell_type": "code",
   "execution_count": 1,
   "id": "9a222964",
   "metadata": {},
   "outputs": [
    {
     "name": "stdout",
     "output_type": "stream",
     "text": [
      "Alice, that was a great trick!\n",
      "I can't wait to see your next trick, Alice.\n",
      "\n",
      "David, that was a great trick!\n",
      "I can't wait to see your next trick, David.\n",
      "\n",
      "Carolina, that was a great trick!\n",
      "I can't wait to see your next trick, Carolina.\n",
      "\n",
      "Thank you, everyone. That was a great magic show!\n"
     ]
    }
   ],
   "source": [
    "magicians = ['alice', 'david', 'carolina']\n",
    "for magician in magicians: #for( String magician : magicians)\n",
    "    print(f\"{magician.title()}, that was a great trick!\")\n",
    "    print(f\"I can't wait to see your next trick, {magician.title()}.\\n\")\n",
    "#들여쓰기 끝 = for문 끝\n",
    "print(\"Thank you, everyone. That was a great magic show!\")"
   ]
  },
  {
   "cell_type": "code",
   "execution_count": 4,
   "id": "ee677f99",
   "metadata": {},
   "outputs": [
    {
     "name": "stdout",
     "output_type": "stream",
     "text": [
      "a\n",
      "b\n",
      "c\n"
     ]
    }
   ],
   "source": [
    "cats = ['a', 'b', 'c']\n",
    "for cat in cats:\n",
    "    print(cat)"
   ]
  },
  {
   "cell_type": "code",
   "execution_count": 9,
   "id": "03521db9",
   "metadata": {},
   "outputs": [
    {
     "name": "stdout",
     "output_type": "stream",
     "text": [
      "1\n",
      "2\n",
      "3\n",
      "4\n",
      "\n",
      "0\n",
      "1\n",
      "2\n",
      "3\n",
      "4\n",
      "5\n",
      "6\n",
      "7\n",
      "8\n",
      "9\n"
     ]
    }
   ],
   "source": [
    "#range() 안썼을때\n",
    "lst = [1, 2, 3, 4]\n",
    "for num in lst:\n",
    "    print(num)\n",
    "\n",
    "print()\n",
    "#range()\n",
    "for value in range(0, 10): #0~9\n",
    "    print(value)"
   ]
  },
  {
   "cell_type": "code",
   "execution_count": 10,
   "id": "39c5a6f7",
   "metadata": {},
   "outputs": [
    {
     "name": "stdout",
     "output_type": "stream",
     "text": [
      "[1, 2, 3, 4, 5]\n",
      "\n",
      "range(1, 6)\n"
     ]
    }
   ],
   "source": [
    "#1~5의 리스트: 리스트함수가 range객체를 돌려서 뽑아감\n",
    "numbers= list(range(1,6)) \n",
    "print(numbers)\n",
    "\n",
    "print()\n",
    "#객체\n",
    "numbers = range(1, 6) \n",
    "print(numbers)"
   ]
  },
  {
   "cell_type": "code",
   "execution_count": null,
   "id": "32fb372f",
   "metadata": {},
   "outputs": [
    {
     "name": "stdout",
     "output_type": "stream",
     "text": [
      "[0, 2, 4, 6, 8, 10]\n",
      "[1, 3, 5, 7, 9]\n",
      "[0, 2, 4, 6, 8, 10, 1, 3, 5, 7, 9]\n",
      "[0, 2, 4, 6, 8, 10]\n"
     ]
    }
   ],
   "source": [
    "a = list(range(0, 11, 2))#(시작, 끝, 간격/step)\n",
    "b = list(range(1, 11, 2))\n",
    "print(a)\n",
    "print(b)\n",
    "print(a+b)\n",
    "#print(a-b) #지원안됨\n",
    "c = [x for x in a if x not in b]# a의 각 x에 대해서 + if> x가 b에 없다면 \n",
    "print(c)#짝수 출력"
   ]
  },
  {
   "cell_type": "code",
   "execution_count": 22,
   "id": "b0c4cf76",
   "metadata": {},
   "outputs": [
    {
     "name": "stdout",
     "output_type": "stream",
     "text": [
      "[1, 4, 9, 16, 25, 36, 49, 64, 81, 100]\n",
      "\n",
      "[1, 4, 9, 16, 25, 36, 49, 64, 81, 100]\n"
     ]
    }
   ],
   "source": [
    "#같은결과\n",
    "#1.\n",
    "squares = []\n",
    "for value in range(1, 11):\n",
    "    square = value **2 \n",
    "    squares.append(square) \n",
    "print(squares)\n",
    "\n",
    "print()\n",
    "#2. 리스트 내포\n",
    "squares2 = [num*num for num in range(1, 11)]\n",
    "print(squares2)"
   ]
  },
  {
   "cell_type": "code",
   "execution_count": null,
   "id": "71db5da3",
   "metadata": {},
   "outputs": [
    {
     "name": "stdout",
     "output_type": "stream",
     "text": [
      "0는 a\n",
      "1는 b\n",
      "2는 c\n",
      "3는 d\n",
      "0는 a\n",
      "1는 b\n",
      "2는 c\n",
      "3는 d\n"
     ]
    }
   ],
   "source": [
    "#같은결과\n",
    "list = ['a', 'b', 'c', 'd']\n",
    "# 1. range\n",
    "for i in range(len(list)):\n",
    "    print(\"{}는 {}\".format(i, list[i]))\n",
    "\n",
    "print()\n",
    "# 2. (중요)enumerate\n",
    "for i, value in enumerate(list): #enumerate: return값 2개(인덱스, 값)\n",
    "    print(\"{}는 {}\".format(i, value))"
   ]
  }
 ],
 "metadata": {
  "kernelspec": {
   "display_name": "Python 3",
   "language": "python",
   "name": "python3"
  },
  "language_info": {
   "codemirror_mode": {
    "name": "ipython",
    "version": 3
   },
   "file_extension": ".py",
   "mimetype": "text/x-python",
   "name": "python",
   "nbconvert_exporter": "python",
   "pygments_lexer": "ipython3",
   "version": "3.9.13"
  }
 },
 "nbformat": 4,
 "nbformat_minor": 5
}
