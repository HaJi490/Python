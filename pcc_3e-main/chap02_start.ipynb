{
 "cells": [
  {
   "cell_type": "code",
   "execution_count": null,
   "id": "4b033daa",
   "metadata": {},
   "outputs": [],
   "source": [
    "msg = \"hello world\"\n",
    "print(msg)\n",
    "name = 'honh gildong l12300000oooo'\n",
    "first_name = 'gildong'\n",
    "last_name = 'hong'"
   ]
  },
  {
   "cell_type": "markdown",
   "id": "2e472340",
   "metadata": {},
   "source": [
    "파이썬 2장부터 실습\n",
    "주피터 노트북으로 실행\n",
    "interactive mode로  실행"
   ]
  },
  {
   "cell_type": "code",
   "execution_count": null,
   "id": "94ed32f2",
   "metadata": {},
   "outputs": [
    {
     "name": "stdout",
     "output_type": "stream",
     "text": [
      "Hello Good Day\n",
      "hello good day\n"
     ]
    }
   ],
   "source": [
    "# 참조변수: 들어간 주소를 가리킴\n",
    "message = 'hello good day' \n",
    "#title(): 첫글자 대문자 적용(변경x)\n",
    "print(message.title())\n",
    "lst = [1,2,3,4]\n",
    "print(message)"
   ]
  },
  {
   "cell_type": "code",
   "execution_count": null,
   "id": "ce78ee7f",
   "metadata": {},
   "outputs": [
    {
     "name": "stdout",
     "output_type": "stream",
     "text": [
      "Ada Lovelace\n",
      "Hello, Adalovelace!\n"
     ]
    }
   ],
   "source": [
    "name = 'ada lovelace'\n",
    "print(name.title())"
   ]
  },
  {
   "cell_type": "code",
   "execution_count": 13,
   "id": "27fbf38d",
   "metadata": {},
   "outputs": [
    {
     "name": "stdout",
     "output_type": "stream",
     "text": [
      "ada lovelace\n",
      "\n",
      "\t이름 =  Ada\n",
      "Hello, Ada Lovelace\n",
      "!\n"
     ]
    }
   ],
   "source": [
    "first_name = 'ada'\n",
    "last_name = 'lovelace'\n",
    "full_name = f'{first_name} {last_name}\\n'\n",
    "print(full_name)\n",
    "print(f\"\\t이름 =  {first_name.title()}\")\n",
    "print(f\"Hello, {full_name.title()}!\")"
   ]
  },
  {
   "cell_type": "code",
   "execution_count": null,
   "id": "a15a2256",
   "metadata": {},
   "outputs": [
    {
     "name": "stdout",
     "output_type": "stream",
     "text": [
      "같은 이름\n"
     ]
    }
   ],
   "source": [
    "name1 = 'python'\n",
    "name2 = \" python    \" # 공백있으면 다른 이름 #'', \"\" 구분x\n",
    "if name1 == name2.lstrip(): #타입상관없이 '=='사용가능 #strip(): 앞뒤 공백제거 #lstrip(): 왼쪽공백만 제거\n",
    "    print('같은 이름')\n",
    "else:\n",
    "    print(\"다른 이름\")"
   ]
  },
  {
   "cell_type": "code",
   "execution_count": null,
   "id": "15b397c9",
   "metadata": {},
   "outputs": [
    {
     "data": {
      "text/plain": [
       "'http://nostarch.com'"
      ]
     },
     "execution_count": 21,
     "metadata": {},
     "output_type": "execute_result"
    }
   ],
   "source": [
    "nostarch_url = 'http://nostarch.com'\n",
    "nostarch_url.removeprefix('http://')#원래 변수를 변경하지 않음\n",
    "nostarch_url #print 생략: 최종실행 결과만 보여줌(변숫값)"
   ]
  },
  {
   "cell_type": "code",
   "execution_count": 23,
   "id": "e8a1d029",
   "metadata": {},
   "outputs": [
    {
     "name": "stdout",
     "output_type": "stream",
     "text": [
      "one of python's strength\n"
     ]
    }
   ],
   "source": [
    "msg = \"one of python's strength\"\n",
    "print(msg)"
   ]
  },
  {
   "cell_type": "code",
   "execution_count": 28,
   "id": "06445a1e",
   "metadata": {},
   "outputs": [
    {
     "data": {
      "text/plain": [
       "0.3"
      ]
     },
     "execution_count": 28,
     "metadata": {},
     "output_type": "execute_result"
    }
   ],
   "source": [
    "1+2\n",
    "0.1+0.2\n",
    "0.1+0.4\n",
    "0.6\n",
    "0.9\n",
    "0.3"
   ]
  },
  {
   "cell_type": "code",
   "execution_count": null,
   "id": "2c0f290d",
   "metadata": {},
   "outputs": [
    {
     "name": "stdout",
     "output_type": "stream",
     "text": [
      "20200\n"
     ]
    }
   ],
   "source": [
    "age = 20_200 #_: ','대신 사용 ㅇㅇ\n",
    "print(age)"
   ]
  },
  {
   "cell_type": "code",
   "execution_count": null,
   "id": "947cbf09",
   "metadata": {},
   "outputs": [
    {
     "name": "stdout",
     "output_type": "stream",
     "text": [
      "1 2 3\n"
     ]
    }
   ],
   "source": [
    "x, y, z = 1, 2, 3 #다중할당\n",
    "print(x, y, z)"
   ]
  },
  {
   "cell_type": "code",
   "execution_count": 31,
   "id": "971756e7",
   "metadata": {},
   "outputs": [
    {
     "name": "stdout",
     "output_type": "stream",
     "text": [
      "The Zen of Python, by Tim Peters\n",
      "\n",
      "Beautiful is better than ugly.\n",
      "Explicit is better than implicit.\n",
      "Simple is better than complex.\n",
      "Complex is better than complicated.\n",
      "Flat is better than nested.\n",
      "Sparse is better than dense.\n",
      "Readability counts.\n",
      "Special cases aren't special enough to break the rules.\n",
      "Although practicality beats purity.\n",
      "Errors should never pass silently.\n",
      "Unless explicitly silenced.\n",
      "In the face of ambiguity, refuse the temptation to guess.\n",
      "There should be one-- and preferably only one --obvious way to do it.\n",
      "Although that way may not be obvious at first unless you're Dutch.\n",
      "Now is better than never.\n",
      "Although never is often better than *right* now.\n",
      "If the implementation is hard to explain, it's a bad idea.\n",
      "If the implementation is easy to explain, it may be a good idea.\n",
      "Namespaces are one honking great idea -- let's do more of those!\n"
     ]
    }
   ],
   "source": [
    "import this"
   ]
  }
 ],
 "metadata": {
  "kernelspec": {
   "display_name": "Python 3",
   "language": "python",
   "name": "python3"
  },
  "language_info": {
   "codemirror_mode": {
    "name": "ipython",
    "version": 3
   },
   "file_extension": ".py",
   "mimetype": "text/x-python",
   "name": "python",
   "nbconvert_exporter": "python",
   "pygments_lexer": "ipython3",
   "version": "3.9.13"
  }
 },
 "nbformat": 4,
 "nbformat_minor": 5
}
